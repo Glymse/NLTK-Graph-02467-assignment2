{
 "cells": [
  {
   "cell_type": "code",
   "execution_count": 1,
   "metadata": {},
   "outputs": [],
   "source": [
    "# Imports\n",
    "import json\n",
    "import networkx as nx\n",
    "import matplotlib.pyplot as plt\n",
    "import os\n",
    "import pandas as pd\n",
    "import numpy as np\n",
    "import random\n",
    "from tqdm import tqdm\n",
    "from joblib import Parallel, delayed\n",
    "from IPython.display import Image, display"
   ]
  },
  {
   "cell_type": "code",
   "execution_count": 2,
   "metadata": {},
   "outputs": [],
   "source": [
    "# Load DataFrames\n",
    "df_articles = pd.read_csv(\"df_articles.csv\")  # Replace with actual filename\n",
    "df_authors = pd.read_csv(\"df_authors.csv\")    # Replace with actual filename"
   ]
  },
  {
   "cell_type": "code",
   "execution_count": null,
   "metadata": {},
   "outputs": [],
   "source": [
    "import pandas as pd\n",
    "import networkx as nx\n",
    "from itertools import combinations\n"
   ]
  },
  {
   "cell_type": "code",
   "execution_count": 11,
   "metadata": {},
   "outputs": [
    {
     "name": "stdout",
     "output_type": "stream",
     "text": [
      "            source       target  weight\n",
      "0      A5014647140  A5082953212       2\n",
      "1      A5014647140  A5067142016       4\n",
      "2      A5014647140  A5008033989       5\n",
      "3      A5014647140  A5069948947       1\n",
      "4      A5014647140  A5078253058       1\n",
      "...            ...          ...     ...\n",
      "57512  A5083702049  A5004273745       1\n",
      "57513  A5083702049  A5109934253       1\n",
      "57514  A5100452647  A5004273745       1\n",
      "57515  A5100452647  A5109934253       1\n",
      "57516  A5004273745  A5109934253       1\n",
      "\n",
      "[57517 rows x 3 columns]\n"
     ]
    }
   ],
   "source": [
    "\n",
    "# Create an empty graph\n",
    "G = nx.Graph()\n",
    "\n",
    "# Iterate over each row in the dataframe\n",
    "for index, row in df_articles.iterrows():\n",
    "    authors = eval(row['author_ids'])\n",
    "    # Add edges between each pair of authors with weight 1\n",
    "    for author1, author2 in combinations(authors, 2):\n",
    "        if G.has_edge(author1, author2):\n",
    "            G[author1][author2]['weight'] += 1\n",
    "        else:\n",
    "            G.add_edge(author1, author2, weight=1)\n",
    "\n",
    "# Print the weighted edgelist\n",
    "weighted_edgelist = nx.to_pandas_edgelist(G)\n",
    "print(weighted_edgelist)"
   ]
  },
  {
   "cell_type": "code",
   "execution_count": 13,
   "metadata": {},
   "outputs": [
    {
     "data": {
      "text/plain": [
       "<networkx.classes.graph.Graph at 0x7fbff91b36f0>"
      ]
     },
     "execution_count": 13,
     "metadata": {},
     "output_type": "execute_result"
    }
   ],
   "source": [
    "# make undirected graph\n",
    "G = nx.Graph()\n",
    "\n",
    "# add weighted edges\n",
    "G.add_weighted_edges_from(weighted_edgelist.itertuples(index=False, name=None))\n",
    "\n",
    "G"
   ]
  },
  {
   "cell_type": "code",
   "execution_count": 14,
   "metadata": {},
   "outputs": [],
   "source": [
    "# Convert authors_df into a dictionary for quick lookup\n",
    "author_metadata = {\n",
    "    row[\"id\"]: {\n",
    "        \"display_name\": row[\"display_name\"],\n",
    "        \"country_code\": row[\"country_code\"]\n",
    "    }\n",
    "    for _, row in df_authors.iterrows()\n",
    "}\n",
    "\n",
    "# Convert df_articles into a dictionary for first_pub_year & citation_count\n",
    "author_publication_info = {}\n",
    "for _, row in df_articles.iterrows():\n",
    "    for author in row[\"author_ids\"]:\n",
    "        if author not in author_publication_info:\n",
    "            author_publication_info[author] = {\n",
    "                \"first_pub_year\": int(row[\"publication_year\"]),  # Convert numpy.int64 to int\n",
    "                \"citation_count\": int(row[\"cited_by_count\"])  # Convert numpy.int64 to int\n",
    "            }\n"
   ]
  },
  {
   "cell_type": "code",
   "execution_count": 15,
   "metadata": {},
   "outputs": [],
   "source": [
    "for node in G.nodes():\n",
    "    # Get author metadata from authors_df\n",
    "    G.nodes[node][\"display_name\"] = author_metadata.get(node, {}).get(\"display_name\", \"Unknown\")\n",
    "    G.nodes[node][\"country_code\"] = author_metadata.get(node, {}).get(\"country_code\", \"Unknown\")\n",
    "\n",
    "    # Get publication info from df_articles\n",
    "    G.nodes[node][\"first_pub_year\"] = author_publication_info.get(node, {}).get(\"first_pub_year\", None)\n",
    "    G.nodes[node][\"citation_count\"] = author_publication_info.get(node, {}).get(\"citation_count\", 0)\n"
   ]
  },
  {
   "cell_type": "code",
   "execution_count": 16,
   "metadata": {},
   "outputs": [
    {
     "name": "stderr",
     "output_type": "stream",
     "text": [
      "/var/home/xba/Documents/GitHub/dtu/.venv/lib64/python3.13/site-packages/networkx/readwrite/json_graph/node_link.py:142: FutureWarning: \n",
      "The default value will be `edges=\"edges\" in NetworkX 3.6.\n",
      "\n",
      "To make this warning go away, explicitly set the edges kwarg, e.g.:\n",
      "\n",
      "  nx.node_link_data(G, edges=\"links\") to preserve current behavior, or\n",
      "  nx.node_link_data(G, edges=\"edges\") for forward compatibility.\n",
      "  warnings.warn(\n"
     ]
    }
   ],
   "source": [
    "import json\n",
    "from networkx.readwrite import json_graph\n",
    "\n",
    "# Convert NetworkX graph to JSON format\n",
    "graph_data = json_graph.node_link_data(G)\n",
    "\n",
    "# Save to a JSON file\n",
    "with open(\"coauthorship_network_new.json\", \"w\") as f:\n",
    "    json.dump(graph_data, f, indent=4)"
   ]
  },
  {
   "cell_type": "code",
   "execution_count": 12,
   "metadata": {},
   "outputs": [
    {
     "data": {
      "text/html": [
       "<div>\n",
       "<style scoped>\n",
       "    .dataframe tbody tr th:only-of-type {\n",
       "        vertical-align: middle;\n",
       "    }\n",
       "\n",
       "    .dataframe tbody tr th {\n",
       "        vertical-align: top;\n",
       "    }\n",
       "\n",
       "    .dataframe thead th {\n",
       "        text-align: right;\n",
       "    }\n",
       "</style>\n",
       "<table border=\"1\" class=\"dataframe\">\n",
       "  <thead>\n",
       "    <tr style=\"text-align: right;\">\n",
       "      <th></th>\n",
       "      <th>source</th>\n",
       "      <th>target</th>\n",
       "      <th>weight</th>\n",
       "    </tr>\n",
       "  </thead>\n",
       "  <tbody>\n",
       "    <tr>\n",
       "      <th>0</th>\n",
       "      <td>[</td>\n",
       "      <td>'</td>\n",
       "      <td>87146</td>\n",
       "    </tr>\n",
       "    <tr>\n",
       "      <th>1</th>\n",
       "      <td>[</td>\n",
       "      <td>A</td>\n",
       "      <td>43573</td>\n",
       "    </tr>\n",
       "    <tr>\n",
       "      <th>2</th>\n",
       "      <td>[</td>\n",
       "      <td>5</td>\n",
       "      <td>77915</td>\n",
       "    </tr>\n",
       "    <tr>\n",
       "      <th>3</th>\n",
       "      <td>[</td>\n",
       "      <td>0</td>\n",
       "      <td>77277</td>\n",
       "    </tr>\n",
       "    <tr>\n",
       "      <th>4</th>\n",
       "      <td>[</td>\n",
       "      <td>1</td>\n",
       "      <td>42138</td>\n",
       "    </tr>\n",
       "    <tr>\n",
       "      <th>...</th>\n",
       "      <td>...</td>\n",
       "      <td>...</td>\n",
       "      <td>...</td>\n",
       "    </tr>\n",
       "    <tr>\n",
       "      <th>220</th>\n",
       "      <td>3</td>\n",
       "      <td>3</td>\n",
       "      <td>60372</td>\n",
       "    </tr>\n",
       "    <tr>\n",
       "      <th>221</th>\n",
       "      <td>3</td>\n",
       "      <td>9</td>\n",
       "      <td>57225</td>\n",
       "    </tr>\n",
       "    <tr>\n",
       "      <th>222</th>\n",
       "      <td>3</td>\n",
       "      <td>8</td>\n",
       "      <td>62847</td>\n",
       "    </tr>\n",
       "    <tr>\n",
       "      <th>223</th>\n",
       "      <td>9</td>\n",
       "      <td>8</td>\n",
       "      <td>54568</td>\n",
       "    </tr>\n",
       "    <tr>\n",
       "      <th>224</th>\n",
       "      <td>9</td>\n",
       "      <td>9</td>\n",
       "      <td>50584</td>\n",
       "    </tr>\n",
       "  </tbody>\n",
       "</table>\n",
       "<p>225 rows × 3 columns</p>\n",
       "</div>"
      ],
      "text/plain": [
       "    source target  weight\n",
       "0        [      '   87146\n",
       "1        [      A   43573\n",
       "2        [      5   77915\n",
       "3        [      0   77277\n",
       "4        [      1   42138\n",
       "..     ...    ...     ...\n",
       "220      3      3   60372\n",
       "221      3      9   57225\n",
       "222      3      8   62847\n",
       "223      9      8   54568\n",
       "224      9      9   50584\n",
       "\n",
       "[225 rows x 3 columns]"
      ]
     },
     "execution_count": 12,
     "metadata": {},
     "output_type": "execute_result"
    }
   ],
   "source": [
    "import itertools\n",
    "\n",
    "# generate co-author pairs and count occurrences\n",
    "edge_list = []\n",
    "for authors in df_articles['author_ids']:\n",
    "    pairs = list(itertools.combinations(authors, 2))  # make all possible author A-B pairs\n",
    "    edge_list.extend(pairs)\n",
    "\n",
    "# count occurrences of each pair\n",
    "edge_weights = {}\n",
    "for pair in edge_list:\n",
    "    if pair in edge_weights:\n",
    "        edge_weights[pair] += 1\n",
    "    else:\n",
    "        edge_weights[pair] = 1\n",
    "\n",
    "# convert to DataFrame (Weighted Edge List)\n",
    "weighted_edge_list = pd.DataFrame(\n",
    "    [(a, b, w) for (a, b), w in edge_weights.items()],\n",
    "    columns=[\"source\", \"target\", \"weight\"]\n",
    ")\n",
    "\n",
    "weighted_edge_list"
   ]
  }
 ],
 "metadata": {
  "kernelspec": {
   "display_name": ".venv",
   "language": "python",
   "name": "python3"
  },
  "language_info": {
   "codemirror_mode": {
    "name": "ipython",
    "version": 3
   },
   "file_extension": ".py",
   "mimetype": "text/x-python",
   "name": "python",
   "nbconvert_exporter": "python",
   "pygments_lexer": "ipython3",
   "version": "3.13.2"
  }
 },
 "nbformat": 4,
 "nbformat_minor": 2
}
